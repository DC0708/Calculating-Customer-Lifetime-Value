{
 "cells": [
  {
   "cell_type": "markdown",
   "metadata": {},
   "source": [
    "# Step 1: Understand the dataset "
   ]
  },
  {
   "cell_type": "code",
   "execution_count": 205,
   "metadata": {},
   "outputs": [
    {
     "name": "stdout",
     "output_type": "stream",
     "text": [
      "1. Number of null columns : 0\n",
      "\n",
      "2. Range of dates in the dataset 1/1/2011 - 9/9/2015\n",
      "\n",
      "3. Number of unique customers : 1000\n",
      "\n",
      "4. Standard descriptive statistics for the Amount field\n",
      "count    4186.000000\n",
      "mean        9.028082\n",
      "std        38.723909\n",
      "min        -1.000000\n",
      "25%         3.310000\n",
      "50%         6.885000\n",
      "75%        11.690000\n",
      "max      2033.000000\n",
      "Name: Amount, dtype: float64\n",
      "\n",
      " Trend in transaction amount over a period of next months\n"
     ]
    },
    {
     "data": {
      "text/plain": [
       "<matplotlib.collections.PathCollection at 0x19a349fa748>"
      ]
     },
     "execution_count": 205,
     "metadata": {},
     "output_type": "execute_result"
    },
    {
     "data": {
      "image/png": "[encoded data removed]",
      "text/plain": [
       "<Figure size 432x288 with 1 Axes>"
      ]
     },
     "metadata": {
      "needs_background": "light"
     },
     "output_type": "display_data"
    }
   ],
   "source": [
    "import pandas as pd\n",
    "import matplotlib.pyplot as plt\n",
    "\n",
    "\n",
    "clv_transactions = pd.read_csv('HW1 clv_transactions.csv')\n",
    "clv_transactions.head()\n",
    "\n",
    "null_columns = clv_transactions.columns[clv_transactions.isnull().any()]\n",
    "print('1. Number of null columns : ' + str(len(null_columns)))\n",
    "\n",
    "min_transaction_date = clv_transactions['TransactionDate'].min()\n",
    "max_transaction_date = clv_transactions['TransactionDate'].max()\n",
    "\n",
    "print('\\n2. Range of dates in the dataset ' + min_transaction_date + ' - ' + max_transaction_date)\n",
    "\n",
    "print('\\n3. Number of unique customers : ' + str(clv_transactions['CustomerID'].nunique()))\n",
    "\n",
    "print('\\n4. Standard descriptive statistics for the Amount field')\n",
    "\n",
    "print(clv_transactions['Amount'].describe())\n",
    "\n",
    "print('\\n Trend in transaction amount over a period of next months')\n",
    "clv_transactions['TransactionDate'] = pd.to_datetime(clv_transactions['TransactionDate'])\n",
    "\n",
    "y = clv_transactions['Amount'].groupby([clv_transactions['TransactionDate'].dt.year,clv_transactions['TransactionDate'].dt.month]).median()\n",
    "\n",
    "x= pd.DataFrame({ '' : range(1, 72 + 1 ,1)})\n",
    "plt.xlabel(\"Number of months from 2010 beginning -->\")\n",
    "plt.ylabel(\"Median Transaction Amount in USD -->\")\n",
    "plt.scatter(x,y)"
   ]
  },
  {
   "cell_type": "code",
   "execution_count": 206,
   "metadata": {},
   "outputs": [
    {
     "name": "stdout",
     "output_type": "stream",
     "text": [
      "\n",
      " Trend in transaction amount over a period of next years\n"
     ]
    },
    {
     "data": {
      "text/plain": [
       "<matplotlib.collections.PathCollection at 0x19a34a580f0>"
      ]
     },
     "execution_count": 206,
     "metadata": {},
     "output_type": "execute_result"
    },
    {
     "data": {
      "image/png": "[encoded data removed]",
      "text/plain": [
       "<Figure size 432x288 with 1 Axes>"
      ]
     },
     "metadata": {
      "needs_background": "light"
     },
     "output_type": "display_data"
    }
   ],
   "source": [
    "print('\\n Trend in transaction amount over a period of next years')\n",
    "\n",
    "y = clv_transactions['Amount'].groupby([clv_transactions['TransactionDate'].dt.year]).median()\n",
    "\n",
    "x = pd.DataFrame({ '' : range(1, 6 + 1 ,1)})\n",
    "plt.xlabel(\"Number of years from 2010 beginning -->\")\n",
    "plt.ylabel(\"Median Transaction Amount in USD -->\")\n",
    "plt.scatter(x,y)\n"
   ]
  },
  {
   "cell_type": "markdown",
   "metadata": {},
   "source": [
    "There is no general increase in the transaction amounts over time. Though there is an increase in median transaction amounts from 2011 to 2013, but overall, there is no general trend."
   ]
  },
  {
   "cell_type": "markdown",
   "metadata": {},
   "source": [
    "# Step 2: Explore the dataset"
   ]
  },
  {
   "cell_type": "code",
   "execution_count": 174,
   "metadata": {},
   "outputs": [
    {
     "name": "stdout",
     "output_type": "stream",
     "text": [
      "These are the outlier points based on the points which are very farther away(using interquartile ranges and box plot) : \n"
     ]
    },
    {
     "data": {
      "text/html": [
       "<div>\n",
       "<style scoped>\n",
       "    .dataframe tbody tr th:only-of-type {\n",
       "        vertical-align: middle;\n",
       "    }\n",
       "\n",
       "    .dataframe tbody tr th {\n",
       "        vertical-align: top;\n",
       "    }\n",
       "\n",
       "    .dataframe thead th {\n",
       "        text-align: right;\n",
       "    }\n",
       "</style>\n",
       "<table border=\"1\" class=\"dataframe\">\n",
       "  <thead>\n",
       "    <tr style=\"text-align: right;\">\n",
       "      <th></th>\n",
       "      <th>TransactionID</th>\n",
       "      <th>TransactionDate</th>\n",
       "      <th>CustomerID</th>\n",
       "      <th>Amount</th>\n",
       "    </tr>\n",
       "  </thead>\n",
       "  <tbody>\n",
       "    <tr>\n",
       "      <th>23</th>\n",
       "      <td>24</td>\n",
       "      <td>2011-10-07</td>\n",
       "      <td>7</td>\n",
       "      <td>1003.0</td>\n",
       "    </tr>\n",
       "    <tr>\n",
       "      <th>211</th>\n",
       "      <td>212</td>\n",
       "      <td>2014-05-14</td>\n",
       "      <td>54</td>\n",
       "      <td>1027.0</td>\n",
       "    </tr>\n",
       "    <tr>\n",
       "      <th>4177</th>\n",
       "      <td>4178</td>\n",
       "      <td>2012-08-13</td>\n",
       "      <td>1000</td>\n",
       "      <td>2033.0</td>\n",
       "    </tr>\n",
       "  </tbody>\n",
       "</table>\n",
       "</div>"
      ],
      "text/plain": [
       "      TransactionID TransactionDate  CustomerID  Amount\n",
       "23               24      2011-10-07           7  1003.0\n",
       "211             212      2014-05-14          54  1027.0\n",
       "4177           4178      2012-08-13        1000  2033.0"
      ]
     },
     "execution_count": 174,
     "metadata": {},
     "output_type": "execute_result"
    }
   ],
   "source": [
    "#Step 2\n",
    "\n",
    "Q1 = clv_transactions['Amount'].quantile(0.25)\n",
    "Q3 = clv_transactions['Amount'].quantile(0.75)\n",
    "IQR = Q3 - Q1\n",
    "\n",
    "clv_trans = clv_transactions[~((clv_transactions['Amount'] < (Q1 - 3.5 * IQR)) |(clv_transactions['Amount'] > (Q3 + 3.5 * IQR)))]\n",
    "clv_trans_outliers = clv_transactions[((clv_transactions['Amount'] < (Q1 - 3.5 * IQR)) |(clv_transactions['Amount'] > (Q3 + 3.5 * IQR)))]\n",
    "\n",
    "print('These are the outlier points based on the points which are very farther away(using interquartile ranges and box plot) : ')\n",
    "clv_trans_outliers"
   ]
  },
  {
   "cell_type": "markdown",
   "metadata": {},
   "source": [
    "# Step 3: Determine origin year of customers"
   ]
  },
  {
   "cell_type": "code",
   "execution_count": 179,
   "metadata": {
    "scrolled": false
   },
   "outputs": [
    {
     "data": {
      "text/html": [
       "<div>\n",
       "<style scoped>\n",
       "    .dataframe tbody tr th:only-of-type {\n",
       "        vertical-align: middle;\n",
       "    }\n",
       "\n",
       "    .dataframe tbody tr th {\n",
       "        vertical-align: top;\n",
       "    }\n",
       "\n",
       "    .dataframe thead th {\n",
       "        text-align: right;\n",
       "    }\n",
       "</style>\n",
       "<table border=\"1\" class=\"dataframe\">\n",
       "  <thead>\n",
       "    <tr style=\"text-align: right;\">\n",
       "      <th></th>\n",
       "      <th>TransactionID</th>\n",
       "      <th>TransactionDate</th>\n",
       "      <th>CustomerID</th>\n",
       "      <th>Amount</th>\n",
       "      <th>TransactionYear</th>\n",
       "      <th>OriginYear</th>\n",
       "    </tr>\n",
       "  </thead>\n",
       "  <tbody>\n",
       "    <tr>\n",
       "      <th>0</th>\n",
       "      <td>1</td>\n",
       "      <td>2012-09-04</td>\n",
       "      <td>1</td>\n",
       "      <td>20.26</td>\n",
       "      <td>2012</td>\n",
       "      <td>2012</td>\n",
       "    </tr>\n",
       "    <tr>\n",
       "      <th>1</th>\n",
       "      <td>2</td>\n",
       "      <td>2012-05-15</td>\n",
       "      <td>2</td>\n",
       "      <td>10.87</td>\n",
       "      <td>2012</td>\n",
       "      <td>2012</td>\n",
       "    </tr>\n",
       "    <tr>\n",
       "      <th>2</th>\n",
       "      <td>3</td>\n",
       "      <td>2014-05-23</td>\n",
       "      <td>2</td>\n",
       "      <td>2.21</td>\n",
       "      <td>2014</td>\n",
       "      <td>2012</td>\n",
       "    </tr>\n",
       "    <tr>\n",
       "      <th>3</th>\n",
       "      <td>4</td>\n",
       "      <td>2014-10-24</td>\n",
       "      <td>2</td>\n",
       "      <td>10.48</td>\n",
       "      <td>2014</td>\n",
       "      <td>2012</td>\n",
       "    </tr>\n",
       "    <tr>\n",
       "      <th>4</th>\n",
       "      <td>5</td>\n",
       "      <td>2012-10-13</td>\n",
       "      <td>2</td>\n",
       "      <td>3.94</td>\n",
       "      <td>2012</td>\n",
       "      <td>2012</td>\n",
       "    </tr>\n",
       "  </tbody>\n",
       "</table>\n",
       "</div>"
      ],
      "text/plain": [
       "   TransactionID TransactionDate  CustomerID  Amount  TransactionYear  \\\n",
       "0              1      2012-09-04           1   20.26             2012   \n",
       "1              2      2012-05-15           2   10.87             2012   \n",
       "2              3      2014-05-23           2    2.21             2014   \n",
       "3              4      2014-10-24           2   10.48             2014   \n",
       "4              5      2012-10-13           2    3.94             2012   \n",
       "\n",
       "   OriginYear  \n",
       "0        2012  \n",
       "1        2012  \n",
       "2        2012  \n",
       "3        2012  \n",
       "4        2012  "
      ]
     },
     "execution_count": 179,
     "metadata": {},
     "output_type": "execute_result"
    }
   ],
   "source": [
    "#Step 3\n",
    "\n",
    "clv_transactions = clv_trans.copy()\n",
    "clv_transactions['TransactionDate'] = pd.to_datetime(clv_transactions['TransactionDate'])\n",
    "\n",
    "origin_transaction_year = clv_transactions['TransactionDate'].dt.year.groupby(clv_transactions['CustomerID']).min()\n",
    "origin_year_df = pd.DataFrame(origin_transaction_year)\n",
    "origin_year_df.reset_index(level=0, inplace=True)\n",
    "origin_year_df['OriginYear'] = origin_year_df['TransactionDate']\n",
    "origin_year_df = origin_year_df.drop(columns=['TransactionDate'])\n",
    "\n",
    "clv_transactions['TransactionYear'] = clv_transactions['TransactionDate'].dt.year\n",
    "clv_transactions = clv_transactions.merge(origin_year_df, on='CustomerID')\n",
    "clv_transactions.head()\n"
   ]
  },
  {
   "cell_type": "markdown",
   "metadata": {},
   "source": [
    "# Step 4: Calculate cumulative transaction amounts"
   ]
  },
  {
   "cell_type": "code",
   "execution_count": 197,
   "metadata": {},
   "outputs": [
    {
     "data": {
      "text/html": [
       "<div>\n",
       "<style scoped>\n",
       "    .dataframe tbody tr th:only-of-type {\n",
       "        vertical-align: middle;\n",
       "    }\n",
       "\n",
       "    .dataframe tbody tr th {\n",
       "        vertical-align: top;\n",
       "    }\n",
       "\n",
       "    .dataframe thead th {\n",
       "        text-align: right;\n",
       "    }\n",
       "</style>\n",
       "<table border=\"1\" class=\"dataframe\">\n",
       "  <thead>\n",
       "    <tr style=\"text-align: right;\">\n",
       "      <th></th>\n",
       "      <th>12</th>\n",
       "      <th>24</th>\n",
       "      <th>36</th>\n",
       "      <th>48</th>\n",
       "      <th>60</th>\n",
       "      <th>72</th>\n",
       "    </tr>\n",
       "    <tr>\n",
       "      <th>Origin</th>\n",
       "      <th></th>\n",
       "      <th></th>\n",
       "      <th></th>\n",
       "      <th></th>\n",
       "      <th></th>\n",
       "      <th></th>\n",
       "    </tr>\n",
       "  </thead>\n",
       "  <tbody>\n",
       "    <tr>\n",
       "      <th>2010-01-01–2010-12-31</th>\n",
       "      <td>2259.67</td>\n",
       "      <td>3614.78</td>\n",
       "      <td>5274.81</td>\n",
       "      <td>6632.37</td>\n",
       "      <td>7930.69</td>\n",
       "      <td>8964.49</td>\n",
       "    </tr>\n",
       "    <tr>\n",
       "      <th>2011-01-01-2011-12-31</th>\n",
       "      <td>2238.46</td>\n",
       "      <td>3756.90</td>\n",
       "      <td>5464.99</td>\n",
       "      <td>6702.11</td>\n",
       "      <td>7861.24</td>\n",
       "      <td>0.00</td>\n",
       "    </tr>\n",
       "    <tr>\n",
       "      <th>2012-01-01–2012-12-31</th>\n",
       "      <td>2181.35</td>\n",
       "      <td>3874.69</td>\n",
       "      <td>5226.86</td>\n",
       "      <td>6501.85</td>\n",
       "      <td>0.00</td>\n",
       "      <td>0.00</td>\n",
       "    </tr>\n",
       "    <tr>\n",
       "      <th>2013-01-01–2013-12-31</th>\n",
       "      <td>2179.85</td>\n",
       "      <td>3608.81</td>\n",
       "      <td>5226.75</td>\n",
       "      <td>0.00</td>\n",
       "      <td>0.00</td>\n",
       "      <td>0.00</td>\n",
       "    </tr>\n",
       "    <tr>\n",
       "      <th>2014-01-01–2014-12-31</th>\n",
       "      <td>1830.85</td>\n",
       "      <td>3262.05</td>\n",
       "      <td>0.00</td>\n",
       "      <td>0.00</td>\n",
       "      <td>0.00</td>\n",
       "      <td>0.00</td>\n",
       "    </tr>\n",
       "    <tr>\n",
       "      <th>2015-01-01–2015-12-31</th>\n",
       "      <td>1912.17</td>\n",
       "      <td>0.00</td>\n",
       "      <td>0.00</td>\n",
       "      <td>0.00</td>\n",
       "      <td>0.00</td>\n",
       "      <td>0.00</td>\n",
       "    </tr>\n",
       "  </tbody>\n",
       "</table>\n",
       "</div>"
      ],
      "text/plain": [
       "                            12       24       36       48       60       72\n",
       "Origin                                                                     \n",
       "2010-01-01–2010-12-31  2259.67  3614.78  5274.81  6632.37  7930.69  8964.49\n",
       "2011-01-01-2011-12-31  2238.46  3756.90  5464.99  6702.11  7861.24     0.00\n",
       "2012-01-01–2012-12-31  2181.35  3874.69  5226.86  6501.85     0.00     0.00\n",
       "2013-01-01–2013-12-31  2179.85  3608.81  5226.75     0.00     0.00     0.00\n",
       "2014-01-01–2014-12-31  1830.85  3262.05     0.00     0.00     0.00     0.00\n",
       "2015-01-01–2015-12-31  1912.17     0.00     0.00     0.00     0.00     0.00"
      ]
     },
     "execution_count": 197,
     "metadata": {},
     "output_type": "execute_result"
    }
   ],
   "source": [
    "#Step 4\n",
    "df_clv_transactions = clv_transactions.groupby(['OriginYear','TransactionYear'])[['Amount']].sum()\n",
    "\n",
    "df_clv_transactions = df_clv_transactions.reset_index() \n",
    "df_clv_transactions1 = df_clv_transactions\n",
    "\n",
    "def getting_cumulative_transactions(months):\n",
    "    trans = df_clv_transactions1[df_clv_transactions1['TransactionYear']==(df_clv_transactions1['OriginYear'] -1+months//12)]['Amount']\n",
    "    df_clv_transactions_merged = trans.reset_index()\n",
    "    df_clv_transactions_merged = df_clv_transactions_merged.drop(columns=['index'])\n",
    "    df_clv_transactions_merged.rename(columns = {\"Amount\":months},inplace=True)\n",
    "    return df_clv_transactions_merged\n",
    "\n",
    "df_clv_transactions_merged = getting_cumulative_transactions(12)\n",
    "df_clv_transactions_merged2 = getting_cumulative_transactions(24)\n",
    "df_clv_transactions_merged3 = getting_cumulative_transactions(36)\n",
    "df_clv_transactions_merged4 = getting_cumulative_transactions(48)\n",
    "df_clv_transactions_merged5 = getting_cumulative_transactions(60)\n",
    "df_clv_transactions_merged6 = getting_cumulative_transactions(72)\n",
    "\n",
    "df_merged = pd.concat([df_clv_transactions_merged,df_clv_transactions_merged2,df_clv_transactions_merged3,df_clv_transactions_merged4,df_clv_transactions_merged5,df_clv_transactions_merged6], axis=1)\n",
    "df_merged.index = ['2010-01-01–2010-12-31','2011-01-01-2011-12-31','2012-01-01–2012-12-31','2013-01-01–2013-12-31','2014-01-01–2014-12-31','2015-01-01–2015-12-31']\n",
    "df_merged.index.name = 'Origin'\n",
    "df_merged = df_merged.cumsum(axis=1)\n",
    "df_merged = df_merged.fillna(0)\n",
    "df_merged"
   ]
  },
  {
   "cell_type": "markdown",
   "metadata": {},
   "source": [
    "# Step 5: Calculate cumulative transaction amounts "
   ]
  },
  {
   "cell_type": "code",
   "execution_count": 193,
   "metadata": {},
   "outputs": [
    {
     "data": {
      "text/html": [
       "<div>\n",
       "<style scoped>\n",
       "    .dataframe tbody tr th:only-of-type {\n",
       "        vertical-align: middle;\n",
       "    }\n",
       "\n",
       "    .dataframe tbody tr th {\n",
       "        vertical-align: top;\n",
       "    }\n",
       "\n",
       "    .dataframe thead th {\n",
       "        text-align: right;\n",
       "    }\n",
       "</style>\n",
       "<table border=\"1\" class=\"dataframe\">\n",
       "  <thead>\n",
       "    <tr style=\"text-align: right;\">\n",
       "      <th></th>\n",
       "      <th>12</th>\n",
       "      <th>24</th>\n",
       "      <th>36</th>\n",
       "      <th>48</th>\n",
       "      <th>60</th>\n",
       "      <th>72</th>\n",
       "    </tr>\n",
       "    <tr>\n",
       "      <th>Origin</th>\n",
       "      <th></th>\n",
       "      <th></th>\n",
       "      <th></th>\n",
       "      <th></th>\n",
       "      <th></th>\n",
       "      <th></th>\n",
       "    </tr>\n",
       "  </thead>\n",
       "  <tbody>\n",
       "    <tr>\n",
       "      <th>2010-01-01–2010-12-31</th>\n",
       "      <td>172</td>\n",
       "      <td>172</td>\n",
       "      <td>172</td>\n",
       "      <td>172</td>\n",
       "      <td>172</td>\n",
       "      <td>172</td>\n",
       "    </tr>\n",
       "    <tr>\n",
       "      <th>2011-01-01-2011-12-31</th>\n",
       "      <td>170</td>\n",
       "      <td>170</td>\n",
       "      <td>170</td>\n",
       "      <td>170</td>\n",
       "      <td>170</td>\n",
       "      <td>0</td>\n",
       "    </tr>\n",
       "    <tr>\n",
       "      <th>2012-01-01–2012-12-31</th>\n",
       "      <td>163</td>\n",
       "      <td>163</td>\n",
       "      <td>163</td>\n",
       "      <td>163</td>\n",
       "      <td>0</td>\n",
       "      <td>0</td>\n",
       "    </tr>\n",
       "    <tr>\n",
       "      <th>2013-01-01–2013-12-31</th>\n",
       "      <td>180</td>\n",
       "      <td>180</td>\n",
       "      <td>180</td>\n",
       "      <td>0</td>\n",
       "      <td>0</td>\n",
       "      <td>0</td>\n",
       "    </tr>\n",
       "    <tr>\n",
       "      <th>2014-01-01–2014-12-31</th>\n",
       "      <td>155</td>\n",
       "      <td>155</td>\n",
       "      <td>0</td>\n",
       "      <td>0</td>\n",
       "      <td>0</td>\n",
       "      <td>0</td>\n",
       "    </tr>\n",
       "    <tr>\n",
       "      <th>2015-01-01–2015-12-31</th>\n",
       "      <td>160</td>\n",
       "      <td>0</td>\n",
       "      <td>0</td>\n",
       "      <td>0</td>\n",
       "      <td>0</td>\n",
       "      <td>0</td>\n",
       "    </tr>\n",
       "  </tbody>\n",
       "</table>\n",
       "</div>"
      ],
      "text/plain": [
       "                        12   24   36   48   60   72\n",
       "Origin                                             \n",
       "2010-01-01–2010-12-31  172  172  172  172  172  172\n",
       "2011-01-01-2011-12-31  170  170  170  170  170    0\n",
       "2012-01-01–2012-12-31  163  163  163  163    0    0\n",
       "2013-01-01–2013-12-31  180  180  180    0    0    0\n",
       "2014-01-01–2014-12-31  155  155    0    0    0    0\n",
       "2015-01-01–2015-12-31  160    0    0    0    0    0"
      ]
     },
     "execution_count": 193,
     "metadata": {},
     "output_type": "execute_result"
    }
   ],
   "source": [
    "#Step 5\n",
    "\n",
    "total_customers = clv_transactions[clv_transactions['OriginYear'] == clv_transactions['TransactionYear']]\n",
    "total_customers = total_customers.groupby(['CustomerID','OriginYear'])[['Amount']].count()\n",
    "total_customers.index.name = ['Origin']\n",
    "total_customers.rename(columns = {'OriginYear':'Count'})\n",
    "\n",
    "total_customers = total_customers.groupby(['OriginYear'])['Amount'].count()\n",
    "total_customers = pd.DataFrame(total_customers)\n",
    "\n",
    "for i in range(1,7):\n",
    "    a = []\n",
    "    for j in range(0,7-i):\n",
    "        a.append(total_customers['Amount'][2010 + (j)])\n",
    "    for j in range(7-i,6):\n",
    "        a.append(0)\n",
    "    total_customers[12*(i)] = a\n",
    "total_customers = total_customers.drop(columns = ['Amount'])           \n",
    "total_customers.index = ['2010-01-01–2010-12-31','2011-01-01-2011-12-31','2012-01-01–2012-12-31','2013-01-01–2013-12-31','2014-01-01–2014-12-31','2015-01-01–2015-12-31']\n",
    "total_customers.index.name = 'Origin'\n",
    "\n",
    "total_customers"
   ]
  },
  {
   "cell_type": "markdown",
   "metadata": {},
   "source": [
    "# Step 6: Historic CLV "
   ]
  },
  {
   "cell_type": "code",
   "execution_count": 194,
   "metadata": {},
   "outputs": [
    {
     "data": {
      "text/html": [
       "<div>\n",
       "<style scoped>\n",
       "    .dataframe tbody tr th:only-of-type {\n",
       "        vertical-align: middle;\n",
       "    }\n",
       "\n",
       "    .dataframe tbody tr th {\n",
       "        vertical-align: top;\n",
       "    }\n",
       "\n",
       "    .dataframe thead th {\n",
       "        text-align: right;\n",
       "    }\n",
       "</style>\n",
       "<table border=\"1\" class=\"dataframe\">\n",
       "  <thead>\n",
       "    <tr style=\"text-align: right;\">\n",
       "      <th></th>\n",
       "      <th>12</th>\n",
       "      <th>24</th>\n",
       "      <th>36</th>\n",
       "      <th>48</th>\n",
       "      <th>60</th>\n",
       "      <th>72</th>\n",
       "    </tr>\n",
       "    <tr>\n",
       "      <th>Origin</th>\n",
       "      <th></th>\n",
       "      <th></th>\n",
       "      <th></th>\n",
       "      <th></th>\n",
       "      <th></th>\n",
       "      <th></th>\n",
       "    </tr>\n",
       "  </thead>\n",
       "  <tbody>\n",
       "    <tr>\n",
       "      <th>2010-01-01–2010-12-31</th>\n",
       "      <td>13.137616</td>\n",
       "      <td>21.016163</td>\n",
       "      <td>30.667500</td>\n",
       "      <td>38.560291</td>\n",
       "      <td>46.108663</td>\n",
       "      <td>52.119128</td>\n",
       "    </tr>\n",
       "    <tr>\n",
       "      <th>2011-01-01-2011-12-31</th>\n",
       "      <td>13.167412</td>\n",
       "      <td>22.099412</td>\n",
       "      <td>32.147000</td>\n",
       "      <td>39.424176</td>\n",
       "      <td>46.242588</td>\n",
       "      <td>0.000000</td>\n",
       "    </tr>\n",
       "    <tr>\n",
       "      <th>2012-01-01–2012-12-31</th>\n",
       "      <td>13.382515</td>\n",
       "      <td>23.771104</td>\n",
       "      <td>32.066626</td>\n",
       "      <td>39.888650</td>\n",
       "      <td>0.000000</td>\n",
       "      <td>0.000000</td>\n",
       "    </tr>\n",
       "    <tr>\n",
       "      <th>2013-01-01–2013-12-31</th>\n",
       "      <td>12.110278</td>\n",
       "      <td>20.048944</td>\n",
       "      <td>29.037500</td>\n",
       "      <td>0.000000</td>\n",
       "      <td>0.000000</td>\n",
       "      <td>0.000000</td>\n",
       "    </tr>\n",
       "    <tr>\n",
       "      <th>2014-01-01–2014-12-31</th>\n",
       "      <td>11.811935</td>\n",
       "      <td>21.045484</td>\n",
       "      <td>0.000000</td>\n",
       "      <td>0.000000</td>\n",
       "      <td>0.000000</td>\n",
       "      <td>0.000000</td>\n",
       "    </tr>\n",
       "    <tr>\n",
       "      <th>2015-01-01–2015-12-31</th>\n",
       "      <td>11.951062</td>\n",
       "      <td>0.000000</td>\n",
       "      <td>0.000000</td>\n",
       "      <td>0.000000</td>\n",
       "      <td>0.000000</td>\n",
       "      <td>0.000000</td>\n",
       "    </tr>\n",
       "  </tbody>\n",
       "</table>\n",
       "</div>"
      ],
      "text/plain": [
       "                              12         24         36         48         60  \\\n",
       "Origin                                                                         \n",
       "2010-01-01–2010-12-31  13.137616  21.016163  30.667500  38.560291  46.108663   \n",
       "2011-01-01-2011-12-31  13.167412  22.099412  32.147000  39.424176  46.242588   \n",
       "2012-01-01–2012-12-31  13.382515  23.771104  32.066626  39.888650   0.000000   \n",
       "2013-01-01–2013-12-31  12.110278  20.048944  29.037500   0.000000   0.000000   \n",
       "2014-01-01–2014-12-31  11.811935  21.045484   0.000000   0.000000   0.000000   \n",
       "2015-01-01–2015-12-31  11.951062   0.000000   0.000000   0.000000   0.000000   \n",
       "\n",
       "                              72  \n",
       "Origin                            \n",
       "2010-01-01–2010-12-31  52.119128  \n",
       "2011-01-01-2011-12-31   0.000000  \n",
       "2012-01-01–2012-12-31   0.000000  \n",
       "2013-01-01–2013-12-31   0.000000  \n",
       "2014-01-01–2014-12-31   0.000000  \n",
       "2015-01-01–2015-12-31   0.000000  "
      ]
     },
     "execution_count": 194,
     "metadata": {},
     "output_type": "execute_result"
    }
   ],
   "source": [
    "# Step 6\n",
    "clv = df_merged/total_customers\n",
    "# clv.round(2)\n",
    "clv.fillna(0)"
   ]
  },
  {
   "cell_type": "code",
   "execution_count": 203,
   "metadata": {},
   "outputs": [
    {
     "data": {
      "text/plain": [
       "Text(0, 0.5, 'HistoricCLV')"
      ]
     },
     "execution_count": 203,
     "metadata": {},
     "output_type": "execute_result"
    },
    {
     "data": {
      "image/png": "[encoded data removed]",
      "text/plain": [
       "<Figure size 432x288 with 1 Axes>"
      ]
     },
     "metadata": {
      "needs_background": "light"
     },
     "output_type": "display_data"
    }
   ],
   "source": [
    "line_plot = clv.transpose().plot.line()\n",
    "line_plot.set_xlabel('Age')\n",
    "line_plot.set_ylabel('HistoricCLV')"
   ]
  },
  {
   "cell_type": "markdown",
   "metadata": {},
   "source": [
    "# Step 7: Interpreting your results "
   ]
  },
  {
   "cell_type": "code",
   "execution_count": 204,
   "metadata": {},
   "outputs": [
    {
     "data": {
      "text/plain": [
       "12    12.60\n",
       "24    21.57\n",
       "36    30.94\n",
       "48    39.28\n",
       "60    46.18\n",
       "72    52.12\n",
       "Name: 2015-01-01–2015-12-31, dtype: float64"
      ]
     },
     "execution_count": 204,
     "metadata": {},
     "output_type": "execute_result"
    }
   ],
   "source": [
    "x= df_merged.cumsum()\n",
    "y= total_customers.cumsum()\n",
    "interpretation = (x.iloc[-1]/y.iloc[-1]).round(2)\n",
    "interpretation"
   ]
  },
  {
   "cell_type": "markdown",
   "metadata": {},
   "source": [
    "a) Customers acquired in 2011 have spent $8964 till date.\n",
    "b) Each group of customers exhibit similar patterns of spending. Lower bound on CLV over a period of 6 years is $52 which increases by around $7-$9 every year. So, the cost taken to acquire a customer should be less than the lower bound for the company to be profitable. Hence, according to the above interpreation, the company should not spend on an average more than $12 for the first year and around $7-$9 on every customer to stay profitable."
   ]
  },
  {
   "cell_type": "code",
   "execution_count": null,
   "metadata": {},
   "outputs": [],
   "source": []
  }
 ],
 "metadata": {
  "celltoolbar": "Raw Cell Format",
  "kernelspec": {
   "display_name": "Python 3",
   "language": "python",
   "name": "python3"
  },
  "language_info": {
   "codemirror_mode": {
    "name": "ipython",
    "version": 3
   },
   "file_extension": ".py",
   "mimetype": "text/x-python",
   "name": "python",
   "nbconvert_exporter": "python",
   "pygments_lexer": "ipython3",
   "version": "3.7.0"
  }
 },
 "nbformat": 4,
 "nbformat_minor": 2
}
